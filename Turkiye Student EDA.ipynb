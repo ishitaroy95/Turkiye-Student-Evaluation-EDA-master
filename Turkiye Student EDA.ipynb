{
 "cells": [
  {
   "cell_type": "markdown",
   "metadata": {},
   "source": [
    "# Turkiye Student Evaluation\n",
    "In this project, we aims to explore Turkiye student dataset. "
   ]
  },
  {
   "cell_type": "code",
   "execution_count": 1,
   "metadata": {},
   "outputs": [],
   "source": [
    "import pandas as pd\n",
    "import seaborn as sns\n",
    "import matplotlib.pyplot as plt"
   ]
  },
  {
   "cell_type": "markdown",
   "metadata": {},
   "source": [
    "import the dataset"
   ]
  },
  {
   "cell_type": "code",
   "execution_count": 2,
   "metadata": {},
   "outputs": [],
   "source": [
    "# Get and read the data\n",
    "direct_link = 'http://archive.ics.uci.edu/ml/machine-learning-databases/00262/turkiye-student-evaluation_generic.csv'\n",
    "df = pd.read_csv(direct_link)"
   ]
  },
  {
   "cell_type": "markdown",
   "metadata": {},
   "source": [
    "We make sure that the dataset contains no missing data"
   ]
  },
  {
   "cell_type": "code",
   "execution_count": 3,
   "metadata": {},
   "outputs": [
    {
     "data": {
      "text/plain": [
       "False"
      ]
     },
     "execution_count": 3,
     "metadata": {},
     "output_type": "execute_result"
    }
   ],
   "source": [
    "df.isnull().values.any()"
   ]
  },
  {
   "cell_type": "markdown",
   "metadata": {},
   "source": [
    "## Exploring the Data"
   ]
  },
  {
   "cell_type": "markdown",
   "metadata": {},
   "source": [
    "We begin by finding which class has the most active student. The student enrolled in that class will give the most response to the class. One problem with this is that the classes don't necessarily to have same amount of student. But, for now, assuming that they do."
   ]
  },
  {
   "cell_type": "code",
   "execution_count": 4,
   "metadata": {},
   "outputs": [
    {
     "data": {
      "text/plain": [
       "3     904\n",
       "13    841\n",
       "5     656\n",
       "9     571\n",
       "6     558\n",
       "8     500\n",
       "11    484\n",
       "10    448\n",
       "1     303\n",
       "7     187\n",
       "4     187\n",
       "2     140\n",
       "12     41\n",
       "Name: class, dtype: int64"
      ]
     },
     "execution_count": 4,
     "metadata": {},
     "output_type": "execute_result"
    }
   ],
   "source": [
    "df['class'].value_counts()"
   ]
  },
  {
   "cell_type": "markdown",
   "metadata": {},
   "source": [
    "Class 3 has the most response (with class 13 closely following). Plotting a graph it to see it visually."
   ]
  },
  {
   "cell_type": "code",
   "execution_count": 5,
   "metadata": {},
   "outputs": [
    {
     "data": {
      "text/plain": [
       "[Text(0, 0.5, 'number of responses')]"
      ]
     },
     "execution_count": 5,
     "metadata": {},
     "output_type": "execute_result"
    },
    {
     "data": {
      "image/png": "[encoded data removed]",
      "text/plain": [
       "<Figure size 432x288 with 1 Axes>"
      ]
     },
     "metadata": {
      "needs_background": "light"
     },
     "output_type": "display_data"
    }
   ],
   "source": [
    "# Plot frequency of responses vs class\n",
    "cc = sns.countplot(x='class', data=df)\n",
    "cc.set(ylabel='number of responses')"
   ]
  },
  {
   "cell_type": "markdown",
   "metadata": {},
   "source": [
    "From teh graph we can see class 3 has the most response.Based on the response, it is not clear if the students liked or disliked the class.\n",
    "\n",
    "Filtering all the class 3 data."
   ]
  },
  {
   "cell_type": "code",
   "execution_count": 6,
   "metadata": {},
   "outputs": [],
   "source": [
    "# filtering the dataset to data with response from class 3 only\n",
    "df_3 = df[df['class'] == 3]"
   ]
  },
  {
   "cell_type": "code",
   "execution_count": null,
   "metadata": {},
   "outputs": [],
   "source": []
  },
  {
   "cell_type": "markdown",
   "metadata": {},
   "source": [
    "Course 3 is the has the most response, which means it has the most student. We can assume that course 3 is probably first year course-an introductory course, so it must be relatively easy for students."
   ]
  },
  {
   "cell_type": "code",
   "execution_count": 7,
   "metadata": {},
   "outputs": [
    {
     "data": {
      "text/plain": [
       "1    334\n",
       "4    204\n",
       "3    181\n",
       "5    157\n",
       "2     28\n",
       "Name: difficulty, dtype: int64"
      ]
     },
     "execution_count": 7,
     "metadata": {},
     "output_type": "execute_result"
    }
   ],
   "source": [
    "df_3['difficulty'].value_counts()"
   ]
  },
  {
   "cell_type": "markdown",
   "metadata": {},
   "source": [
    "334 students say it is level 1 difficult.\n",
    "204 said it is level 4 difficult and only 28 said it is level 28 difficult. \n",
    "It was that level 2 should've been the 2nd most responses. \n",
    "Will have to check why is there such a drastic changes (level 1 and level 4)??\n",
    "\n",
    "Plotting graph!"
   ]
  },
  {
   "cell_type": "code",
   "execution_count": 8,
   "metadata": {},
   "outputs": [
    {
     "data": {
      "text/plain": [
       "Text(0.5, 1.0, 'Difficulty of class 3')"
      ]
     },
     "execution_count": 8,
     "metadata": {},
     "output_type": "execute_result"
    },
    {
     "data": {
      "image/png": "[encoded data removed]",
      "text/plain": [
       "<Figure size 432x288 with 1 Axes>"
      ]
     },
     "metadata": {
      "needs_background": "light"
     },
     "output_type": "display_data"
    }
   ],
   "source": [
    "cd = sns.countplot(x='difficulty', data=df_3)\n",
    "cd.set(ylabel='number of responses')\n",
    "plt.title('Difficulty of class 3')"
   ]
  },
  {
   "cell_type": "markdown",
   "metadata": {},
   "source": [
    "It is safe to say that the lower the difficulty is, the higher likeness of student against the class is. One big portion student like the class while another big portion dislike it. \n",
    "Will findout if the student who say it is easy really like it or not.\n",
    "\n",
    "filtering the data and getting data where student say class 3 is easy."
   ]
  },
  {
   "cell_type": "code",
   "execution_count": 9,
   "metadata": {},
   "outputs": [],
   "source": [
    "# filter student who say class 3 is easy\n",
    "df_3_easy = df_3[df_3['difficulty'] == 1]"
   ]
  },
  {
   "cell_type": "markdown",
   "metadata": {},
   "source": [
    "Going to examine the following quesonnaire response:\n",
    "- Q3: The course was worth the amount of credit assigned to it.\n",
    "- Q8: The quizzes, assignments, projects and exams contributed to helping the learning.\n",
    "- Q9: I greatly enjoyed the class and was eager to actively participate during the lectures.\n"
   ]
  },
  {
   "cell_type": "code",
   "execution_count": 10,
   "metadata": {},
   "outputs": [
    {
     "data": {
      "text/plain": [
       "<matplotlib.legend.Legend at 0x9efdb50>"
      ]
     },
     "execution_count": 10,
     "metadata": {},
     "output_type": "execute_result"
    },
    {
     "data": {
      "image/png": "[encoded data removed]",
      "text/plain": [
       "<Figure size 432x288 with 1 Axes>"
      ]
     },
     "metadata": {
      "needs_background": "light"
     },
     "output_type": "display_data"
    }
   ],
   "source": [
    "df_3_easy_ques = df_3_easy[['Q3', 'Q8', 'Q9']]\n",
    "qc = sns.countplot(x=\"value\", hue=\"variable\", data=pd.melt(df_3_easy_ques))\n",
    "plt.title('Response against course 3 from Q3, Q8, Q9')\n",
    "plt.legend(loc='center left', bbox_to_anchor=(1, .5), ncol=1, title='Questions: ')"
   ]
  },
  {
   "cell_type": "markdown",
   "metadata": {},
   "source": [
    "We can see, the response is pretty similar among each question. Turns out, most student says course 3 is average in all of these questions. Also, a big part of them dislike  the course (we can see a huge number of 1s given as response)\n",
    "\n",
    "We can then conclude:\n",
    "Student who said the class being easy (gave level 1 difficulty) didn't necessarily like the class (not much 5s from Q3, Q8, Q9), in fact they said the course is mostly average (based on Q3, Q8 and Q9)\n",
    "\n",
    "It could be instructur issue? Concidentally, course 3 is managed by instructor 3."
   ]
  },
  {
   "cell_type": "markdown",
   "metadata": {},
   "source": [
    "first filtering the data and to get all response in instructor 3's course."
   ]
  },
  {
   "cell_type": "code",
   "execution_count": 11,
   "metadata": {},
   "outputs": [],
   "source": [
    "# getting response data from all course of instructor 3\n",
    "df_instr_3 = df[df['instr'] == 3]"
   ]
  },
  {
   "cell_type": "code",
   "execution_count": 12,
   "metadata": {},
   "outputs": [
    {
     "data": {
      "text/plain": [
       "3     904\n",
       "13    742\n",
       "5     656\n",
       "9     571\n",
       "8     500\n",
       "4     187\n",
       "12     41\n",
       "Name: class, dtype: int64"
      ]
     },
     "execution_count": 12,
     "metadata": {},
     "output_type": "execute_result"
    }
   ],
   "source": [
    "df_instr_3['class'].value_counts()"
   ]
  },
  {
   "cell_type": "markdown",
   "metadata": {},
   "source": [
    "Instructor 3 manage 7 courses, so I will examine how the instrutor is doing with the top 5 of those courses."
   ]
  },
  {
   "cell_type": "code",
   "execution_count": 13,
   "metadata": {},
   "outputs": [],
   "source": [
    "# getting the top 5 courses\n",
    "top_5 = [3, 13, 5, 9, 8]\n",
    "\n",
    "# filter the data by top 5 courses\n",
    "df_instr_3_top5 = df_instr_3[df_instr_3['class'].isin(top_5)]"
   ]
  },
  {
   "cell_type": "markdown",
   "metadata": {},
   "source": [
    "Have to evaluate the instructor on the following questions:\n",
    "- Q13: The Instructor's knowledge was relevant and up to date.\n",
    "- Q20: The Instructor explained the course and was eager to be helpful to students\n",
    "- Q23: The Instructor encouraged participation in the course.\n",
    "\n",
    "All of these questions are related to how the instructor is doing on the course"
   ]
  },
  {
   "cell_type": "code",
   "execution_count": 14,
   "metadata": {},
   "outputs": [],
   "source": [
    "df_instr_3_top5_ques = df_instr_3_top5[['Q13', 'Q20', 'Q23']]"
   ]
  },
  {
   "cell_type": "code",
   "execution_count": 15,
   "metadata": {},
   "outputs": [
    {
     "data": {
      "text/plain": [
       "<matplotlib.legend.Legend at 0x9f74d50>"
      ]
     },
     "execution_count": 15,
     "metadata": {},
     "output_type": "execute_result"
    },
    {
     "data": {
      "image/png": "[encoded data removed]",
      "text/plain": [
       "<Figure size 432x288 with 1 Axes>"
      ]
     },
     "metadata": {
      "needs_background": "light"
     },
     "output_type": "display_data"
    }
   ],
   "source": [
    "ic = sns.countplot(x=\"value\", hue=\"variable\", data=pd.melt(df_instr_3_top5_ques))\n",
    "plt.title('Response against instructor 3 from Q13, Q20, Q23')\n",
    "plt.legend(loc='center left', bbox_to_anchor=(1, .5), ncol=1, title='Questions: ')"
   ]
  },
  {
   "cell_type": "markdown",
   "metadata": {},
   "source": [
    "Mostly average. However, we can see a lot of 4s and 5s, which mean the instructor is generally well-liked and doing good in the course."
   ]
  },
  {
   "cell_type": "markdown",
   "metadata": {},
   "source": [
    "#### How about instructor 3 as a person? How well is he/her doing?"
   ]
  },
  {
   "cell_type": "markdown",
   "metadata": {},
   "source": [
    "Going to examine the instructor on the following questions:\n",
    "- Q14: The Instructor came prepared for classes\n",
    "- Q17: The Instructor arrived on time for classes.\n",
    "- Q19: The Instructor made effective use of class hours.\n",
    "- Q21: The Instructor demonstrated a positive approach to students.\n",
    "- Q28: The Instructor treated all students in a right and objective manner."
   ]
  },
  {
   "cell_type": "code",
   "execution_count": 16,
   "metadata": {},
   "outputs": [
    {
     "data": {
      "text/plain": [
       "<matplotlib.legend.Legend at 0x9fbf9d0>"
      ]
     },
     "execution_count": 16,
     "metadata": {},
     "output_type": "execute_result"
    },
    {
     "data": {
      "image/png": "[encoded data removed]",
      "text/plain": [
       "<Figure size 432x288 with 1 Axes>"
      ]
     },
     "metadata": {
      "needs_background": "light"
     },
     "output_type": "display_data"
    }
   ],
   "source": [
    "#taking all those questions column name to a list\n",
    "personal_ques = ['Q14', 'Q17', 'Q19', 'Q21', 'Q28']\n",
    "\n",
    "df_instr_3_personal = df_instr_3[personal_ques]\n",
    "prsc = sns.countplot(x=\"value\", hue=\"variable\", data=pd.melt(df_instr_3_personal))\n",
    "plt.title('Response against instructor 3 from personal question')\n",
    "plt.legend(loc='center left', bbox_to_anchor=(1, .5), ncol=1, title='Questions: ')"
   ]
  },
  {
   "cell_type": "markdown",
   "metadata": {},
   "source": [
    "Conclusion: instructor 3 is a good instrutor. He/she came prepared, arrived on time, used office hours, was positive against student and treated student fairly. Instructor 3 is just the ideal instructor you could think of :p"
   ]
  },
  {
   "cell_type": "markdown",
   "metadata": {},
   "source": [
    "## Conclusion"
   ]
  },
  {
   "cell_type": "markdown",
   "metadata": {},
   "source": [
    "- Student who said course 3 is easy (level 1 difficulty) don't necessarily enjoy the class (Q9), they also didn't feel is the course helping them learning (maybe because the class is to easy??). ALso, they thought amount of credits is not fair for that class. This doesn't seems right, right?\n",
    "- The previous problem is certainly not because of the instructor. Instructor 3 (who also manage course 3) is doing just fine in his/her class. The instructor is well-liked among students."
   ]
  },
  {
   "cell_type": "code",
   "execution_count": null,
   "metadata": {},
   "outputs": [],
   "source": []
  }
 ],
 "metadata": {
  "kernelspec": {
   "display_name": "Python 3",
   "language": "python",
   "name": "python3"
  },
  "language_info": {
   "codemirror_mode": {
    "name": "ipython",
    "version": 3
   },
   "file_extension": ".py",
   "mimetype": "text/x-python",
   "name": "python",
   "nbconvert_exporter": "python",
   "pygments_lexer": "ipython3",
   "version": "3.7.4"
  }
 },
 "nbformat": 4,
 "nbformat_minor": 4
}
